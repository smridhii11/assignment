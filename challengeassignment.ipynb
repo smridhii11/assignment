{
  "nbformat": 4,
  "nbformat_minor": 0,
  "metadata": {
    "colab": {
      "provenance": [],
      "authorship_tag": "ABX9TyPYdfsBje2zpJpKOyZSHgwm",
      "include_colab_link": true
    },
    "kernelspec": {
      "name": "python3",
      "display_name": "Python 3"
    },
    "language_info": {
      "name": "python"
    }
  },
  "cells": [
    {
      "cell_type": "markdown",
      "metadata": {
        "id": "view-in-github",
        "colab_type": "text"
      },
      "source": [
        "<a href=\"https://colab.research.google.com/github/smridhii11/assignment/blob/main/challengeassignment.ipynb\" target=\"_parent\"><img src=\"https://colab.research.google.com/assets/colab-badge.svg\" alt=\"Open In Colab\"/></a>"
      ]
    },
    {
      "cell_type": "markdown",
      "source": [
        "#**Storing a heterogeneous data**"
      ],
      "metadata": {
        "id": "pqAWO8RcNpZ_"
      }
    },
    {
      "cell_type": "code",
      "source": [
        "L = [\"Ram\", 1, \"Shyam\", 2, \"Aman\", 3]\n",
        "\n",
        "# Separate strings and numbers manually\n",
        "strings = []\n",
        "numbers = []\n",
        "\n",
        "for item in L:\n",
        "    if type(item) == str:\n",
        "        strings.append(item)\n",
        "    else:\n",
        "        numbers.append(item)\n",
        "\n",
        "# Sort both lists and combine\n",
        "strings.sort()\n",
        "numbers.sort()\n",
        "sorted_L = []\n",
        "str_index = 0\n",
        "num_index = 0\n",
        "\n",
        "for item in L:\n",
        "    if type(item) == str:\n",
        "        sorted_L.append(strings[str_index])\n",
        "        str_index += 1\n",
        "    else:\n",
        "        sorted_L.append(numbers[num_index])\n",
        "        num_index += 1\n",
        "\n",
        "print(sorted_L)\n",
        "\n"
      ],
      "metadata": {
        "colab": {
          "base_uri": "https://localhost:8080/"
        },
        "id": "5QPN2QvSN0KT",
        "outputId": "b68855c4-7272-4325-e853-82a6726ef152"
      },
      "execution_count": 2,
      "outputs": [
        {
          "output_type": "stream",
          "name": "stdout",
          "text": [
            "['Aman', 1, 'Ram', 2, 'Shyam', 3]\n"
          ]
        }
      ]
    }
  ]
}