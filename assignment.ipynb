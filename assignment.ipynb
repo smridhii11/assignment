{
  "nbformat": 4,
  "nbformat_minor": 0,
  "metadata": {
    "colab": {
      "provenance": [],
      "authorship_tag": "ABX9TyPOYnOMuNmrp7/rSps0nWzf",
      "include_colab_link": true
    },
    "kernelspec": {
      "name": "python3",
      "display_name": "Python 3"
    },
    "language_info": {
      "name": "python"
    }
  },
  "cells": [
    {
      "cell_type": "markdown",
      "metadata": {
        "id": "view-in-github",
        "colab_type": "text"
      },
      "source": [
        "<a href=\"https://colab.research.google.com/github/smridhii11/assignment/blob/main/assignment.ipynb\" target=\"_parent\"><img src=\"https://colab.research.google.com/assets/colab-badge.svg\" alt=\"Open In Colab\"/></a>"
      ]
    },
    {
      "cell_type": "markdown",
      "source": [
        "---\n",
        "#***Q1.L is the list defined as L=[11,12,13,14].***\n",
        "---\n",
        "#**1.1 WAP to add 50 and 60 to L.**\n"
      ],
      "metadata": {
        "id": "RZA7kH0MZ_XK"
      }
    },
    {
      "cell_type": "code",
      "source": [
        "L = [11, 12, 13, 14]\n",
        "\n",
        "L.append(50)\n",
        "L.append(60)\n",
        "print (L)\n"
      ],
      "metadata": {
        "colab": {
          "base_uri": "https://localhost:8080/"
        },
        "id": "fjkOfaUXbV_B",
        "outputId": "d9d0c5fa-be3f-4049-de97-aff29ad4f332"
      },
      "execution_count": null,
      "outputs": [
        {
          "output_type": "stream",
          "name": "stdout",
          "text": [
            "[11, 12, 13, 14, 50, 60]\n"
          ]
        }
      ]
    },
    {
      "cell_type": "markdown",
      "source": [
        "#**1.2 WAP to remove 11 and 13 from L.**\n"
      ],
      "metadata": {
        "id": "U2kmanI_bqij"
      }
    },
    {
      "cell_type": "code",
      "source": [
        "L = [11, 12, 13, 14]\n",
        "L.remove(11)\n",
        "L.remove(13)\n",
        "print (L)"
      ],
      "metadata": {
        "colab": {
          "base_uri": "https://localhost:8080/"
        },
        "id": "7lErkPv6b6M6",
        "outputId": "91f49399-0798-4521-9c2b-a370a1eb627c"
      },
      "execution_count": null,
      "outputs": [
        {
          "output_type": "stream",
          "name": "stdout",
          "text": [
            "[12, 14]\n"
          ]
        }
      ]
    },
    {
      "cell_type": "markdown",
      "source": [
        "#**1.3 WAP to sort L in assending order.**"
      ],
      "metadata": {
        "id": "NcHRBLGscCRt"
      }
    },
    {
      "cell_type": "code",
      "source": [
        "L = [11, 13,14,12]\n",
        "L.sort()\n",
        "print (L)\n"
      ],
      "metadata": {
        "colab": {
          "base_uri": "https://localhost:8080/"
        },
        "id": "CoLkeo_icJv1",
        "outputId": "efa3bde7-5ea2-4bb3-fb9f-c84bcfaac086"
      },
      "execution_count": null,
      "outputs": [
        {
          "output_type": "stream",
          "name": "stdout",
          "text": [
            "[11, 12, 13, 14]\n"
          ]
        }
      ]
    },
    {
      "cell_type": "markdown",
      "source": [
        "#** 1.4 WAP to sort L in decending order.**"
      ],
      "metadata": {
        "id": "EFl5q-7YcbS0"
      }
    },
    {
      "cell_type": "code",
      "source": [
        "L = [11, 13,14,12]\n",
        "\n",
        "L.sort(reverse=True)\n",
        "print (L)"
      ],
      "metadata": {
        "colab": {
          "base_uri": "https://localhost:8080/"
        },
        "id": "CHe89i5kcitm",
        "outputId": "1e5bce8e-ba08-48af-c4c7-f94cf33902f8"
      },
      "execution_count": null,
      "outputs": [
        {
          "output_type": "stream",
          "name": "stdout",
          "text": [
            "[14, 13, 12, 11]\n"
          ]
        }
      ]
    },
    {
      "cell_type": "markdown",
      "source": [
        "#**1.5 WAP to search for 13 in L.**\n"
      ],
      "metadata": {
        "id": "FTEGMcsmcqhZ"
      }
    },
    {
      "cell_type": "code",
      "source": [
        "L = [11, 13,14,12]\n",
        "\n",
        "found = 13 in L\n",
        "print (found)"
      ],
      "metadata": {
        "colab": {
          "base_uri": "https://localhost:8080/"
        },
        "id": "3QUuqozlcxbD",
        "outputId": "875184cf-9bed-4ee7-8610-fea47f04a382"
      },
      "execution_count": null,
      "outputs": [
        {
          "output_type": "stream",
          "name": "stdout",
          "text": [
            "True\n"
          ]
        }
      ]
    },
    {
      "cell_type": "markdown",
      "source": [
        "#** 1.6 WAP to count the no. of elements in L.**"
      ],
      "metadata": {
        "id": "w58DiTCjc7lP"
      }
    },
    {
      "cell_type": "code",
      "source": [
        "L = [11, 13,14,12]\n",
        "count = len(L)\n",
        "print(count)"
      ],
      "metadata": {
        "colab": {
          "base_uri": "https://localhost:8080/"
        },
        "id": "HtYqz56qdCsW",
        "outputId": "c4b19bc8-f8ec-4b6b-f7e1-20fe59a90612"
      },
      "execution_count": null,
      "outputs": [
        {
          "output_type": "stream",
          "name": "stdout",
          "text": [
            "4\n"
          ]
        }
      ]
    },
    {
      "cell_type": "markdown",
      "source": [
        "#**1.7 WAP to sum all the elements in L.**\n"
      ],
      "metadata": {
        "id": "U6-3D_yZdVxr"
      }
    },
    {
      "cell_type": "code",
      "source": [
        "L = [11, 13,14,12]\n",
        "total_sum = sum(L)\n",
        "print(total_sum)"
      ],
      "metadata": {
        "colab": {
          "base_uri": "https://localhost:8080/"
        },
        "id": "lAiHl2kLdb6E",
        "outputId": "c20c8982-5c2f-447b-d174-7fc4f35f8c52"
      },
      "execution_count": null,
      "outputs": [
        {
          "output_type": "stream",
          "name": "stdout",
          "text": [
            "50\n"
          ]
        }
      ]
    },
    {
      "cell_type": "markdown",
      "source": [
        "#**1.8 WAP to sum all odd no. in L.**"
      ],
      "metadata": {
        "id": "T0RWJk5GdioV"
      }
    },
    {
      "cell_type": "code",
      "source": [
        "L = [11, 13,14,12]\n",
        "odd_numbers = []\n",
        "for x in L:\n",
        "    if x % 2 != 0:\n",
        "        odd_numbers.append(x)# extract odd no. from list\n",
        "odd_sum = sum(odd_numbers) # sum od odd no.\n",
        "print(odd_sum)\n"
      ],
      "metadata": {
        "colab": {
          "base_uri": "https://localhost:8080/"
        },
        "id": "Re3fB0_gdpzi",
        "outputId": "14e7b75e-bc2e-4cab-8f0b-9e8103bd45b0"
      },
      "execution_count": null,
      "outputs": [
        {
          "output_type": "stream",
          "name": "stdout",
          "text": [
            "24\n"
          ]
        }
      ]
    },
    {
      "cell_type": "markdown",
      "source": [
        "#**1.9 WAP to sum of all even no. in L.**\n"
      ],
      "metadata": {
        "id": "nGseJW5Igmfo"
      }
    },
    {
      "cell_type": "code",
      "source": [
        "L = [11, 13,14,12]\n",
        "even_numbers = []\n",
        "for x in L:\n",
        "    if x % 2 == 0:\n",
        "        even_numbers.append(x)# extract even no. from list\n",
        "even_sum = sum(even_numbers) # sum of even no.\n",
        "print(even_sum)"
      ],
      "metadata": {
        "colab": {
          "base_uri": "https://localhost:8080/"
        },
        "id": "uofHMxNggze4",
        "outputId": "c7878071-cbb5-489b-9dcf-b5ca6cb7b955"
      },
      "execution_count": null,
      "outputs": [
        {
          "output_type": "stream",
          "name": "stdout",
          "text": [
            "26\n"
          ]
        }
      ]
    },
    {
      "cell_type": "markdown",
      "source": [
        "#**1.10 WAP to sum of all prime no. in L.**\n"
      ],
      "metadata": {
        "id": "u1v534l9g4sJ"
      }
    },
    {
      "cell_type": "code",
      "source": [
        "L = [11, 13,14,12]\n",
        "prime_numbers = []\n",
        "for x in L:\n",
        "    if x % 2 != 0:\n",
        "        prime_numbers.append(x)# extract prime no. from list\n",
        "prime_sum = sum(prime_numbers) # sum of prime no.\n",
        "print(prime_sum)\n"
      ],
      "metadata": {
        "colab": {
          "base_uri": "https://localhost:8080/"
        },
        "id": "7OCUngu5g-s9",
        "outputId": "0ec8f3a6-7007-4e9c-f160-34b12b8679ad"
      },
      "execution_count": null,
      "outputs": [
        {
          "output_type": "stream",
          "name": "stdout",
          "text": [
            "24\n"
          ]
        }
      ]
    },
    {
      "cell_type": "markdown",
      "source": [
        "#**1.11 WAP to clear all the elements in L.**\n"
      ],
      "metadata": {
        "id": "bszhx1FwhKZ-"
      }
    },
    {
      "cell_type": "code",
      "source": [
        "L = [11, 13,14,12]\n",
        "L.clear()"
      ],
      "metadata": {
        "id": "6LfbJesKhQNQ"
      },
      "execution_count": null,
      "outputs": []
    },
    {
      "cell_type": "markdown",
      "source": [
        "#** 1.12 WAP to delete L.**"
      ],
      "metadata": {
        "id": "r28WuOnEhWdK"
      }
    },
    {
      "cell_type": "code",
      "source": [
        "del L"
      ],
      "metadata": {
        "id": "O3UVWK9Jhln3"
      },
      "execution_count": null,
      "outputs": []
    },
    {
      "cell_type": "markdown",
      "source": [
        "#***Q2. D is the directory defined as D={1:5.6,2:7.8,3:6.6,4:8.7,5:7.7}.***\n",
        "#**2.1 WAP to add new entry in D;key=8 and value=8.8.**\n"
      ],
      "metadata": {
        "id": "qwGAHJwL_11f"
      }
    },
    {
      "cell_type": "code",
      "source": [
        "D = {1:5.6, 2:7.8, 3:6.6, 4:8.7, 5:7.7}\n",
        "D[8] = 8.8\n",
        "print(D)\n"
      ],
      "metadata": {
        "colab": {
          "base_uri": "https://localhost:8080/"
        },
        "id": "IzRxLjUCBXRD",
        "outputId": "d4b7f354-758b-4631-87bf-9af7cbd19cd6"
      },
      "execution_count": null,
      "outputs": [
        {
          "output_type": "stream",
          "name": "stdout",
          "text": [
            "{1: 5.6, 2: 7.8, 3: 6.6, 4: 8.7, 5: 7.7, 8: 8.8}\n"
          ]
        }
      ]
    },
    {
      "cell_type": "markdown",
      "source": [
        "#**2.2 WAP to remove key 2.**"
      ],
      "metadata": {
        "id": "fDvW8RduBlL5"
      }
    },
    {
      "cell_type": "code",
      "source": [
        "D = {1:5.6, 2:7.8, 3:6.6, 4:8.7, 5:7.7}\n",
        "D.pop(2, None)\n",
        "print(D)"
      ],
      "metadata": {
        "colab": {
          "base_uri": "https://localhost:8080/"
        },
        "id": "bVmAzV75BrxT",
        "outputId": "2d512d77-525e-4f78-b6ae-babad3b0595d"
      },
      "execution_count": null,
      "outputs": [
        {
          "output_type": "stream",
          "name": "stdout",
          "text": [
            "{1: 5.6, 3: 6.6, 4: 8.7, 5: 7.7}\n"
          ]
        }
      ]
    },
    {
      "cell_type": "markdown",
      "source": [
        "#**2.3 WAP to check whether 6 key is present in D.**"
      ],
      "metadata": {
        "id": "Gw8cnz7Q_75K"
      }
    },
    {
      "cell_type": "code",
      "source": [
        "D = {1:5.6, 2:7.8, 3:6.6, 4:8.7, 5:7.7}\n",
        "is_present = 6 in D\n",
        "print (is_present)"
      ],
      "metadata": {
        "colab": {
          "base_uri": "https://localhost:8080/"
        },
        "id": "K0X3OscQCJ-I",
        "outputId": "87b67aa5-6593-4caa-c084-38b647c94d93"
      },
      "execution_count": null,
      "outputs": [
        {
          "output_type": "stream",
          "name": "stdout",
          "text": [
            "False\n"
          ]
        }
      ]
    },
    {
      "cell_type": "markdown",
      "source": [
        "#**2.4 WAP to count the no.of elements present in D.**\n"
      ],
      "metadata": {
        "id": "o7og6akJFPd1"
      }
    },
    {
      "cell_type": "code",
      "source": [
        "D = {1:5.6, 2:7.8, 3:6.6, 4:8.7, 5:7.7}\n",
        "count = len(D)\n",
        "print(count)"
      ],
      "metadata": {
        "colab": {
          "base_uri": "https://localhost:8080/"
        },
        "id": "1yJlpHLiFmca",
        "outputId": "af663cb5-1af9-437c-aeb0-249dfd3d9df3"
      },
      "execution_count": null,
      "outputs": [
        {
          "output_type": "stream",
          "name": "stdout",
          "text": [
            "5\n"
          ]
        }
      ]
    },
    {
      "cell_type": "markdown",
      "source": [
        "#**2.5 WAP to add all the values present in D.**"
      ],
      "metadata": {
        "id": "UmFD6GrgFzXj"
      }
    },
    {
      "cell_type": "code",
      "source": [
        "D = {1:5.6, 2:7.8, 3:6.6, 4:8.7, 5:7.7}\n",
        "total_sum = sum(D.values())\n",
        "print(total_sum)"
      ],
      "metadata": {
        "colab": {
          "base_uri": "https://localhost:8080/"
        },
        "id": "0L5R8WDsF835",
        "outputId": "fcb215d2-b109-4ade-c232-d1e139d3374f"
      },
      "execution_count": null,
      "outputs": [
        {
          "output_type": "stream",
          "name": "stdout",
          "text": [
            "36.4\n"
          ]
        }
      ]
    },
    {
      "cell_type": "markdown",
      "source": [
        "#**2.6 WAP to update the values of 3 to 7.1.**"
      ],
      "metadata": {
        "id": "Gw9llaFjGFT_"
      }
    },
    {
      "cell_type": "code",
      "source": [
        "D = {1:5.6, 2:7.8, 3:6.6, 4:8.7, 5:7.7}\n",
        "D[3] = 7.1\n",
        "print(D)"
      ],
      "metadata": {
        "colab": {
          "base_uri": "https://localhost:8080/"
        },
        "id": "coy4Oq1tGSHo",
        "outputId": "e553c084-5446-46c1-fab3-b88332d93006"
      },
      "execution_count": null,
      "outputs": [
        {
          "output_type": "stream",
          "name": "stdout",
          "text": [
            "{1: 5.6, 2: 7.8, 3: 7.1, 4: 8.7, 5: 7.7}\n"
          ]
        }
      ]
    },
    {
      "cell_type": "markdown",
      "source": [
        "#**2.7 WAP to clear the dictionary.**"
      ],
      "metadata": {
        "id": "mpo5VqGUGfv2"
      }
    },
    {
      "cell_type": "code",
      "source": [
        "D = {1:5.6, 2:7.8, 3:6.6, 4:8.7, 5:7.7}\n",
        "D.clear()\n",
        "print(D)"
      ],
      "metadata": {
        "colab": {
          "base_uri": "https://localhost:8080/"
        },
        "id": "RdaxqcLFGqxj",
        "outputId": "4762e7c5-83df-403d-95a2-49098b30eb51"
      },
      "execution_count": null,
      "outputs": [
        {
          "output_type": "stream",
          "name": "stdout",
          "text": [
            "{}\n"
          ]
        }
      ]
    },
    {
      "cell_type": "markdown",
      "source": [
        "#***Q3. S1and S2 is a set defined as S1=[10,20,30,40,50,60]                   S2=[40,50,60,70,80,90]***"
      ],
      "metadata": {
        "id": "cupizMQyHZw0"
      }
    },
    {
      "cell_type": "markdown",
      "source": [
        "#**3.1 WAP to add 55 and 66 in set 1.**"
      ],
      "metadata": {
        "id": "WKYrg1MFJU2j"
      }
    },
    {
      "cell_type": "code",
      "source": [
        "S1 = {10, 20, 30, 40, 50, 60}\n",
        "S2 = {40, 50, 60, 70, 80, 90}\n",
        "S1.update([55, 66])# (i) Add 55 and 66 to S1\n",
        "print(\"Updated S1:\", S1)\n",
        "\n"
      ],
      "metadata": {
        "colab": {
          "base_uri": "https://localhost:8080/"
        },
        "id": "8PWEhqZJJc-P",
        "outputId": "4ea628f6-1641-4bea-eeb4-c87bcdd8b506"
      },
      "execution_count": null,
      "outputs": [
        {
          "output_type": "stream",
          "name": "stdout",
          "text": [
            "Updated S1: {50, 66, 20, 55, 40, 10, 60, 30}\n"
          ]
        }
      ]
    },
    {
      "cell_type": "markdown",
      "source": [
        "#**3.2 WAP to remove 10 and 30 from set 1.**\n"
      ],
      "metadata": {
        "id": "PjO1rU2nJotG"
      }
    },
    {
      "cell_type": "code",
      "source": [
        "S1 = {10, 20, 30, 40, 50, 60}\n",
        "S2 = {40, 50, 60, 70, 80, 90}\n",
        "S1.discard(10)\n",
        "S1.discard(30)\n",
        "print(\"S1 after removal:\", S1)\n",
        "\n"
      ],
      "metadata": {
        "colab": {
          "base_uri": "https://localhost:8080/"
        },
        "id": "0eDyIKwTJ0Cq",
        "outputId": "53a29d32-cfcf-4e81-d284-8482d54e21e0"
      },
      "execution_count": null,
      "outputs": [
        {
          "output_type": "stream",
          "name": "stdout",
          "text": [
            "S1 after removal: {50, 20, 40, 60}\n"
          ]
        }
      ]
    },
    {
      "cell_type": "markdown",
      "source": [
        "#**3.3 WAP to check whether 40 is present in S1.**"
      ],
      "metadata": {
        "id": "UGxuoOCDJ9HN"
      }
    },
    {
      "cell_type": "code",
      "source": [
        "S1 = {10, 20, 30, 40, 50, 60}\n",
        "S2 = {40, 50, 60, 70, 80, 90}\n",
        "print(\"Is 40 present in S1?\", 40 in S1)\n",
        "\n"
      ],
      "metadata": {
        "colab": {
          "base_uri": "https://localhost:8080/"
        },
        "id": "hI7O_wMjKLms",
        "outputId": "6f7d7e12-d4fb-490d-f9d1-dbe287020168"
      },
      "execution_count": null,
      "outputs": [
        {
          "output_type": "stream",
          "name": "stdout",
          "text": [
            "Is 40 present in S1? True\n"
          ]
        }
      ]
    },
    {
      "cell_type": "markdown",
      "source": [
        "#**3.4 WAP to find the union between S1 and S2.**."
      ],
      "metadata": {
        "id": "Sjpua6M6KVFd"
      }
    },
    {
      "cell_type": "code",
      "source": [
        "S1 = {10, 20, 30, 40, 50, 60}\n",
        "S2 = {40, 50, 60, 70, 80, 90}\n",
        "print(\"Union of S1 and S2:\", S1 | S2)\n"
      ],
      "metadata": {
        "colab": {
          "base_uri": "https://localhost:8080/"
        },
        "id": "W-Wl5K6GKoLp",
        "outputId": "b6701847-2867-4070-ac9a-6acedfa7e38b"
      },
      "execution_count": null,
      "outputs": [
        {
          "output_type": "stream",
          "name": "stdout",
          "text": [
            "Union of S1 and S2: {70, 40, 10, 80, 50, 20, 90, 60, 30}\n"
          ]
        }
      ]
    },
    {
      "cell_type": "markdown",
      "source": [
        "#**3.5 WAP to find the intersection between S1 and S2.**"
      ],
      "metadata": {
        "id": "9l6JEWjqK58O"
      }
    },
    {
      "cell_type": "code",
      "source": [
        "S1 = {10, 20, 30, 40, 50, 60}\n",
        "S2 = {40, 50, 60, 70, 80, 90}\n",
        "print(\"Intersection of S1 and S2:\", S1 & S2)\n"
      ],
      "metadata": {
        "colab": {
          "base_uri": "https://localhost:8080/"
        },
        "id": "WvW8ofkoLDmV",
        "outputId": "cf02b31b-298f-4191-bebe-a4f4570bfa18"
      },
      "execution_count": null,
      "outputs": [
        {
          "output_type": "stream",
          "name": "stdout",
          "text": [
            "Intersection of S1 and S2: {40, 50, 60}\n"
          ]
        }
      ]
    },
    {
      "cell_type": "markdown",
      "source": [
        "#**3.6 WAP to find the S1-S2.**"
      ],
      "metadata": {
        "id": "UILYC79tLN8O"
      }
    },
    {
      "cell_type": "code",
      "source": [
        "S1 = {10, 20, 30, 40, 50, 60}\n",
        "S2 = {40, 50, 60, 70, 80, 90}\n",
        "print(\"Difference S1 - S2:\", S1 - S2)\n"
      ],
      "metadata": {
        "colab": {
          "base_uri": "https://localhost:8080/"
        },
        "id": "9pra-_OaLWUh",
        "outputId": "750bc826-f15c-4a37-b97b-04f75aa186cd"
      },
      "execution_count": null,
      "outputs": [
        {
          "output_type": "stream",
          "name": "stdout",
          "text": [
            "Difference S1 - S2: {10, 20, 30}\n"
          ]
        }
      ]
    },
    {
      "cell_type": "markdown",
      "source": [
        "#***Q4. write the following program***"
      ],
      "metadata": {
        "id": "TOgdX6DpLcGC"
      }
    },
    {
      "cell_type": "markdown",
      "source": [
        "#**4.1 WAP to print 100 random strings whose length between 6 and 8.***"
      ],
      "metadata": {
        "id": "5fXSkB9pLiw0"
      }
    },
    {
      "cell_type": "code",
      "source": [
        "import random as r\n",
        "import string\n",
        "\n",
        "random_strings = []  # Create an empty list to store strings\n",
        "\n",
        "for i in range(100):  # Loop 100 times\n",
        "    length = r.randint(6, 8)  # Choose a random length between 6 and 8\n",
        "    random_string = ''.join(r.choices(string.ascii_letters, k=length))  # Generate string\n",
        "    random_strings.append(random_string)  # Add to the list\n",
        "\n",
        "print(\"Random strings:\", random_strings)  # Print the final list\n"
      ],
      "metadata": {
        "colab": {
          "base_uri": "https://localhost:8080/"
        },
        "id": "13Z_ZtOTLtTl",
        "outputId": "46a8b400-7aec-4de4-e607-6493586b53ec"
      },
      "execution_count": null,
      "outputs": [
        {
          "output_type": "stream",
          "name": "stdout",
          "text": [
            "Random strings: ['fcMEXyM', 'vplrSeH', 'MQbYezpy', 'MWnpbJ', 'mGVMSvK', 'ZroXVl', 'lWmGoTP', 'NYyBiQ', 'DZAqkU', 'WChWLQ', 'KYoyTukA', 'AIQREK', 'TFTkJqm', 'wpIMYsi', 'BitQNC', 'zBQOSfAF', 'lOCECqtZ', 'dSKcLX', 'VQTStQmK', 'dTYjVoqa', 'uyyohp', 'KUHWAal', 'KxfTLmrC', 'daGdLtp', 'zPqQVvZ', 'otUGcs', 'PKFtKZze', 'EKLMSLK', 'zzoyql', 'vvNXQtAV', 'jOPWKiL', 'AcytpKO', 'HjOwslVo', 'luNaMR', 'lelOAAMd', 'bdnETmtP', 'ADonudeu', 'ksNntXl', 'lPmIJeAu', 'bfiHIx', 'oBYpHk', 'AQOJtRkb', 'VoFoWrOU', 'PmkDWa', 'emskAc', 'yClgPZ', 'gYFqdE', 'GkWMLaEn', 'JhwLKe', 'iambttc', 'ftDQbrnZ', 'NaPIFB', 'YYKdOa', 'xleHMFw', 'XqmYyt', 'GAlrlE', 'NVDvtpwy', 'LICrbnGs', 'tdkUWYQ', 'lFbTEoY', 'kqSTQyfT', 'uQtBogpZ', 'rMxGWJYj', 'rUkEqHNU', 'RqGaHU', 'hqZywuLe', 'tuqKKI', 'TpOtNt', 'yyREmYM', 'TceoRmzZ', 'fMqDATA', 'GawtzB', 'seRMcv', 'IjDOiab', 'AAgLQj', 'UsSMaMu', 'tlohfmt', 'FCFSeU', 'AMFHFg', 'ymvcvb', 'nAwKNU', 'wliusdt', 'WSJSYpk', 'PXKgKi', 'aeauNat', 'vtFdxyvx', 'kDnbzMZm', 'CLEXfKr', 'pTPHdQ', 'JESPwH', 'ySjqcLCo', 'JdrsSXSn', 'MOZcYEe', 'pqpVDEDG', 'mIKNfO', 'IRXlvI', 'mYXqfX', 'xiOztyi', 'mDezLlPs', 'kcjiVLUb']\n"
          ]
        }
      ]
    },
    {
      "cell_type": "markdown",
      "source": [
        "#**4.2 WAP to print all the prime no. between 600 and 800.**"
      ],
      "metadata": {
        "id": "t9rAceUTNXQp"
      }
    },
    {
      "cell_type": "code",
      "source": [
        "def is_prime(n):\n",
        "    if n < 2:\n",
        "        return False\n",
        "    for i in range(2, n):\n",
        "        if n % i == 0:\n",
        "            return False\n",
        "    return True\n",
        "\n",
        "prime_numbers = []  # Store prime numbers\n",
        "\n",
        "for n in range(600, 801):\n",
        "    if is_prime(n):\n",
        "        prime_numbers.append(n)\n",
        "\n",
        "print(\"Prime numbers between 600 and 800:\", prime_numbers)"
      ],
      "metadata": {
        "colab": {
          "base_uri": "https://localhost:8080/"
        },
        "id": "4r1m2AMYNkB3",
        "outputId": "3cd32570-2853-4b9c-f168-06c4d5af9766"
      },
      "execution_count": null,
      "outputs": [
        {
          "output_type": "stream",
          "name": "stdout",
          "text": [
            "Prime numbers between 600 and 800: [601, 607, 613, 617, 619, 631, 641, 643, 647, 653, 659, 661, 673, 677, 683, 691, 701, 709, 719, 727, 733, 739, 743, 751, 757, 761, 769, 773, 787, 797]\n"
          ]
        }
      ]
    },
    {
      "cell_type": "markdown",
      "source": [
        "#**4.3 WAP to print all the no. between 100 and 1000 that are divisible by 7 and 9.**"
      ],
      "metadata": {
        "id": "0lL2lx2ROAXP"
      }
    },
    {
      "cell_type": "code",
      "source": [
        "divisible_numbers = [num for num in range(100, 1001) if num % 7 == 0 and num % 9 == 0]\n",
        "print(\"Numbers divisible by 7 and 9:\", divisible_numbers)\n"
      ],
      "metadata": {
        "colab": {
          "base_uri": "https://localhost:8080/"
        },
        "id": "z30XU7TeONVn",
        "outputId": "e4847e13-824c-4082-9b5d-288c45b1ce1e"
      },
      "execution_count": null,
      "outputs": [
        {
          "output_type": "stream",
          "name": "stdout",
          "text": [
            "Numbers divisible by 7 and 9: [126, 189, 252, 315, 378, 441, 504, 567, 630, 693, 756, 819, 882, 945]\n"
          ]
        }
      ]
    },
    {
      "cell_type": "markdown",
      "source": [],
      "metadata": {
        "id": "vbrAGiucOdal"
      }
    },
    {
      "cell_type": "markdown",
      "source": [
        "#***Q5. WAP to create 2 lists of 10 random numbers between 10 and 30; find***\n",
        "\n"
      ],
      "metadata": {
        "id": "vWQHJDH-j1-v"
      }
    },
    {
      "cell_type": "markdown",
      "source": [
        "#**5.1 Common numbers in the two lists.**\n"
      ],
      "metadata": {
        "id": "6rJXG9a7kiQi"
      }
    },
    {
      "cell_type": "code",
      "source": [
        "import random\n",
        "l1 = [random.randint(10, 30) for _ in range(10)]\n",
        "\n",
        "l2 = [random.randint(10, 30) for _ in range(10)]\n",
        "common_numbers = list(set(l1) & set(l2))\n",
        "print(\"Common numbers:\", common_numbers)\n"
      ],
      "metadata": {
        "id": "jL8imq-UP92j",
        "colab": {
          "base_uri": "https://localhost:8080/"
        },
        "outputId": "71776345-211e-44ce-d996-9195441aed73"
      },
      "execution_count": null,
      "outputs": [
        {
          "output_type": "stream",
          "name": "stdout",
          "text": [
            "Common numbers: [13, 14, 24, 27, 29]\n"
          ]
        }
      ]
    },
    {
      "cell_type": "markdown",
      "source": [
        "#**5.2 unique numbers in both list**"
      ],
      "metadata": {
        "id": "A_cG-3YRlYpr"
      }
    },
    {
      "cell_type": "code",
      "source": [
        "unique_numbers_list1 = list(set(l1) - set(l2))\n",
        "unique_numbers_list2 = list(set(l2) - set(l1))\n",
        "print(\"Unique numbers in list 1:\", unique_numbers_list1)\n",
        "print(\"Unique numbers in list 2:\", unique_numbers_list2)\n",
        "\n"
      ],
      "metadata": {
        "colab": {
          "base_uri": "https://localhost:8080/"
        },
        "id": "FOWFSDyXlhty",
        "outputId": "3683e646-dc5d-4a51-c6ad-361e82717291"
      },
      "execution_count": null,
      "outputs": [
        {
          "output_type": "stream",
          "name": "stdout",
          "text": [
            "Unique numbers in list 1: [16, 17, 11, 23]\n",
            "Unique numbers in list 2: [10, 28, 21, 15]\n"
          ]
        }
      ]
    },
    {
      "cell_type": "markdown",
      "source": [
        "#**5.3 minimun in both list**"
      ],
      "metadata": {
        "id": "E98dACDxl04h"
      }
    },
    {
      "cell_type": "code",
      "source": [
        "min_list1 = min(l1)\n",
        "min_list2 = min(l2)\n",
        "print(\"Minimum in list 1:\", min_list1)\n",
        "print(\"Minimum in list 2:\", min_list2)"
      ],
      "metadata": {
        "colab": {
          "base_uri": "https://localhost:8080/"
        },
        "id": "neDz64tNl8O5",
        "outputId": "30162e84-f071-4180-f800-2d174109502d"
      },
      "execution_count": null,
      "outputs": [
        {
          "output_type": "stream",
          "name": "stdout",
          "text": [
            "Minimum in list 1: 11\n",
            "Minimum in list 2: 10\n"
          ]
        }
      ]
    },
    {
      "cell_type": "markdown",
      "source": [
        "#**5.4 maximum in both the list.**"
      ],
      "metadata": {
        "id": "aH4JuEFwmI0r"
      }
    },
    {
      "cell_type": "code",
      "source": [
        "max_list1 = max(l1)\n",
        "max_list2 = max(l2)\n",
        "print(\"Maximum in list 1:\", max_list1)\n",
        "print(\"Maximum in list 2:\", max_list2)"
      ],
      "metadata": {
        "colab": {
          "base_uri": "https://localhost:8080/"
        },
        "id": "Ge5YqnAIo8kF",
        "outputId": "49218399-c4b1-4a49-f974-c29ff9e44399"
      },
      "execution_count": null,
      "outputs": [
        {
          "output_type": "stream",
          "name": "stdout",
          "text": [
            "Maximum in list 1: 29\n",
            "Maximum in list 2: 29\n"
          ]
        }
      ]
    },
    {
      "cell_type": "markdown",
      "source": [
        "#**5.5 Sum of both the list.**"
      ],
      "metadata": {
        "id": "i4aQxdAypESk"
      }
    },
    {
      "cell_type": "code",
      "source": [
        "sum_list1 = sum(l1)\n",
        "sum_list2 = sum(l2)\n",
        "print(\"Sum of list 1:\", sum_list1)\n",
        "print(\"Sum of list 2:\", sum_list2)"
      ],
      "metadata": {
        "colab": {
          "base_uri": "https://localhost:8080/"
        },
        "id": "IzNlF1m6pONG",
        "outputId": "d93d7aeb-3c9d-414a-d8a5-a07daf91765b"
      },
      "execution_count": null,
      "outputs": [
        {
          "output_type": "stream",
          "name": "stdout",
          "text": [
            "Sum of list 1: 190\n",
            "Sum of list 2: 210\n"
          ]
        }
      ]
    },
    {
      "cell_type": "markdown",
      "source": [
        "#***Q6. WAP to create a list of 100 random numbers between 100 and 900.count and print the:***"
      ],
      "metadata": {
        "id": "7BgC3LuKpWHq"
      }
    },
    {
      "cell_type": "markdown",
      "source": [
        "#**6.1 All even numbers.**"
      ],
      "metadata": {
        "id": "5ZjbtU7fpqQD"
      }
    },
    {
      "cell_type": "code",
      "source": [
        "import random\n",
        "n = [random.randint(100, 900) for _ in range(100)]\n",
        "\n",
        "even_num = [num for num in n if num % 2 == 0]\n",
        "print(\"Even numbers:\", even_num)"
      ],
      "metadata": {
        "colab": {
          "base_uri": "https://localhost:8080/"
        },
        "id": "j0BDj1bGqByw",
        "outputId": "16705337-ff9c-4b6b-e8f1-87db76a50ebc"
      },
      "execution_count": null,
      "outputs": [
        {
          "output_type": "stream",
          "name": "stdout",
          "text": [
            "Even numbers: [396, 804, 834, 794, 786, 482, 148, 732, 144, 152, 468, 178, 678, 628, 644, 872, 742, 728, 850, 142, 320, 260, 136, 336, 616, 350, 538, 710, 406, 382, 694, 360, 832, 772, 472, 370, 202, 452, 456, 364, 134, 264, 850, 696, 324, 474, 428, 592, 792, 234, 182, 344, 680, 226]\n"
          ]
        }
      ]
    },
    {
      "cell_type": "markdown",
      "source": [
        "#**6.2 All odd numbers.**"
      ],
      "metadata": {
        "id": "1RCQfEuMqTdN"
      }
    },
    {
      "cell_type": "code",
      "source": [
        "odd_num = [num for num in n if num % 2 != 0]\n",
        "print(\"Odd numbers:\", odd_num)\n"
      ],
      "metadata": {
        "colab": {
          "base_uri": "https://localhost:8080/"
        },
        "id": "XIGBSaqnqXXM",
        "outputId": "87ec9afe-c730-434b-c9e3-25cd5cda99e8"
      },
      "execution_count": null,
      "outputs": [
        {
          "output_type": "stream",
          "name": "stdout",
          "text": [
            "Odd numbers: [667, 659, 853, 195, 491, 361, 669, 215, 515, 401, 857, 101, 219, 719, 137, 499, 553, 349, 639, 289, 633, 431, 259, 631, 565, 745, 115, 779, 331, 817, 667, 831, 695, 533, 277, 705, 421, 181, 875, 307, 899, 423, 289, 329, 243, 261]\n"
          ]
        }
      ]
    },
    {
      "cell_type": "markdown",
      "source": [
        "#**6.3 All prime number.**"
      ],
      "metadata": {
        "id": "DlPGo46sqkGH"
      }
    },
    {
      "cell_type": "code",
      "source": [
        "def is_prime(n):\n",
        "    if n < 2:\n",
        "        return False\n",
        "    for i in range(2, int(n**0.5) + 1):\n",
        "        if n % i == 0:\n",
        "            return False\n",
        "    return True\n",
        "\n",
        "prime_num = [num for num in n if is_prime(num)]\n",
        "print(\"Prime numbers:\", prime_num)\n"
      ],
      "metadata": {
        "colab": {
          "base_uri": "https://localhost:8080/"
        },
        "id": "_rsXlhOaqsXN",
        "outputId": "92c5ea07-8609-4fb2-c0e4-51fa224ca94d"
      },
      "execution_count": null,
      "outputs": [
        {
          "output_type": "stream",
          "name": "stdout",
          "text": [
            "Prime numbers: [659, 853, 491, 401, 857, 101, 719, 137, 499, 349, 431, 631, 331, 277, 421, 181, 307]\n"
          ]
        }
      ]
    },
    {
      "cell_type": "markdown",
      "source": [
        "#***Q7.D is a dictionary defined as D={1:\"One\".2:\"Two\",3:\"Three\",4:\"Four\",5:\"Fivr\"}.***"
      ],
      "metadata": {
        "id": "UTsNtCNZq_m6"
      }
    },
    {
      "cell_type": "markdown",
      "source": [
        "#**WAP to read all the keys and values from dictionary and write to the file in tabular form**\n"
      ],
      "metadata": {
        "id": "UjbGqmHCrgW0"
      }
    },
    {
      "cell_type": "code",
      "source": [
        "\n",
        "D = {1:\"One\", 2:\"Two\", 3:\"Three\", 4:\"Four\", 5:\"Fivr\"}\n",
        "\n",
        "with open('dictionary_output.txt', 'w') as f:\n",
        "\n",
        "  f.write(\"Key\\tValue\\n\")\n",
        "  f.write(\"----\\t-----\\n\")\n",
        "\n",
        "  for key, value in D.items():\n",
        "    f.write(f\"{key}\\t{value}\\n\")\n",
        "!cat dictionary_output.txt"
      ],
      "metadata": {
        "colab": {
          "base_uri": "https://localhost:8080/"
        },
        "id": "vpwtr2b-sKH8",
        "outputId": "63679f33-2868-4592-c6ac-5a33b7b12297"
      },
      "execution_count": 6,
      "outputs": [
        {
          "output_type": "stream",
          "name": "stdout",
          "text": [
            "Key\tValue\n",
            "----\t-----\n",
            "1\tOne\n",
            "2\tTwo\n",
            "3\tThree\n",
            "4\tFour\n",
            "5\tFivr\n"
          ]
        }
      ]
    },
    {
      "cell_type": "markdown",
      "source": [
        "#***Q8. Same list as above***\n",
        "\n"
      ],
      "metadata": {
        "id": "kWDHW9zYZNIq"
      }
    },
    {
      "cell_type": "markdown",
      "source": [
        "#**WAP to count the length of reach element from a list and write to the file in format**\n"
      ],
      "metadata": {
        "id": "UAZnduplZaYw"
      }
    },
    {
      "cell_type": "code",
      "source": [
        "\n",
        "L = [\"One\", \"Two\", \"Three\", \"Four\", \"Five\"]\n",
        "\n",
        "file_name = \"output.txt\"\n",
        "with open(file_name, \"w\") as file:\n",
        "    for item in L:\n",
        "        file.write(f\"{item}, {len(item)}\\n\")\n",
        "!cat output.txt\n"
      ],
      "metadata": {
        "colab": {
          "base_uri": "https://localhost:8080/"
        },
        "id": "yiP_8Zn2Zkup",
        "outputId": "180c1629-833f-4a9f-85bf-fb63818ed0f2"
      },
      "execution_count": 8,
      "outputs": [
        {
          "output_type": "stream",
          "name": "stdout",
          "text": [
            "One, 3\n",
            "Two, 3\n",
            "Three, 5\n",
            "Four, 4\n",
            "Five, 4\n"
          ]
        }
      ]
    },
    {
      "cell_type": "markdown",
      "source": [
        "#***Q9.Write to the file 100 random strings whose length between 10 and 15.***"
      ],
      "metadata": {
        "id": "qHWUsvvMaITr"
      }
    },
    {
      "cell_type": "code",
      "source": [
        "with open(\"random_strings.txt\", \"w\") as f:\n",
        "    for _ in range(100):\n",
        "        s = ''.join(random.choices(string.ascii_letters, k=random.randint(10, 15)))\n",
        "        f.write(s + \"\\n\")\n",
        "!cat random_strings.txt"
      ],
      "metadata": {
        "colab": {
          "base_uri": "https://localhost:8080/"
        },
        "id": "AeGXlpUtaX6C",
        "outputId": "9447e0a0-ce43-4615-8d69-0cf4f7b8b25d"
      },
      "execution_count": 18,
      "outputs": [
        {
          "output_type": "stream",
          "name": "stdout",
          "text": [
            "qmSfALmDTIWBCj\n",
            "YaBfKRoLaH\n",
            "ugLPODByvg\n",
            "ZZrxGnSZIkVL\n",
            "adbIeRbgEeFwiT\n",
            "yruMWjdWPj\n",
            "nzQpaZyKddm\n",
            "jjMqFdTWeHWTxw\n",
            "VvusWAfToT\n",
            "vlWOQvOMoj\n",
            "qiEyFGwNefssdMU\n",
            "WdUqZxoHTIHVnN\n",
            "FqSuPiCQYurfkXZ\n",
            "JWzOBSAbcnl\n",
            "HDAJpntWHwB\n",
            "VZipZOjkiXMDAnw\n",
            "ZPmUPATBROau\n",
            "ilCNdeHTasTej\n",
            "KaKExaeBaJJhxt\n",
            "pkCXOgyfRPZZ\n",
            "HPdqXeVRDZz\n",
            "TxDveUPkjMdSwF\n",
            "OYWRFJAGvjGMSNf\n",
            "IVvsmoVTkRQv\n",
            "npJVekbSlPa\n",
            "sizbsLPDStVLYa\n",
            "qFgSDKlIfPqz\n",
            "VsRkSCOwabXDl\n",
            "TFWFxjWzKIEkp\n",
            "mPPPQezgwZFD\n",
            "xxxFVdzacmF\n",
            "tSKuxgzsirgWva\n",
            "OBHywXQyEYni\n",
            "NMJkHKNWeZpG\n",
            "ylcdZBjufUE\n",
            "OSexCmWisUj\n",
            "HABJHggOePVyiff\n",
            "ROjPOGbuxtx\n",
            "QherAYxAsqXmdxL\n",
            "aKvRFbmrwuHa\n",
            "qNOWnAqWDHAqbvE\n",
            "htIBaglgbRyAOO\n",
            "FKWoBPkonxTKFb\n",
            "MZUnZVJvbDPtRZH\n",
            "EPGpLNCzeTlbG\n",
            "UGxIhMryTyEsU\n",
            "OnJxQDMXZDqYJP\n",
            "isuPkUPahOgpQt\n",
            "FtIhYzWQlYWV\n",
            "nenGESUJYiMWtU\n",
            "AwvIRzxtMpjwo\n",
            "mdrpBUZTPN\n",
            "MUVbedqVJtfpP\n",
            "dieMXVxZQUlooFS\n",
            "VlirnglxAbdd\n",
            "vWNkKmxWUYier\n",
            "BGxTfBQOUvnXGG\n",
            "fEKxMdzYWNoAq\n",
            "MvwegWVgZM\n",
            "djKJBzGwXZbfCM\n",
            "WqxvAPbZoJ\n",
            "ZBbBeUupzD\n",
            "oQZajiNkJQfESuN\n",
            "kowIumbivg\n",
            "XlpXdeSBbyOnA\n",
            "VSxTYJcsrFqhPgz\n",
            "ADqwvgqEPDUssn\n",
            "qeneCXBxvoQd\n",
            "FzkdsoNKXue\n",
            "pmbhxZyXfZko\n",
            "mwQerTSsjedAsvk\n",
            "AnOEjTqApzQ\n",
            "BDRatqRmYgVPgYO\n",
            "bQHxvUuKXnEkr\n",
            "GYouxRswqqv\n",
            "PeojFpHMQUgtG\n",
            "fCmMSoBpJETD\n",
            "YZoHChzUwnNep\n",
            "oZkzAuhCQqq\n",
            "eQrayWPRRDh\n",
            "vPzjFdgoPT\n",
            "xdlgSGiDbKnZSj\n",
            "uoGqTXoZNudI\n",
            "mccLgNRWhHOz\n",
            "IHkHyzowjEpx\n",
            "VwIKCJsfFzowxUX\n",
            "OsEZCfPJAMnuYFN\n",
            "PbTKUFscOy\n",
            "PnmaIMVucbKO\n",
            "JRFDmrDhhXjU\n",
            "TZjIvCsveGxk\n",
            "IrAWOmwttIE\n",
            "EVdtOirHVHU\n",
            "saFJZvCxxibtN\n",
            "xcGhwedDPukdb\n",
            "lQvCfLJbcJ\n",
            "HyHxfrkQXVRG\n",
            "veDqJMAgCVWz\n",
            "XhfnnIFkHYmMGzL\n",
            "xRgenmFRJb\n"
          ]
        }
      ]
    },
    {
      "cell_type": "markdown",
      "source": [
        "#***Q10. Write a file all prime no. between 600 and 800***"
      ],
      "metadata": {
        "id": "W4Q27SLya6t5"
      }
    },
    {
      "cell_type": "code",
      "source": [
        "file_name = \"prime_numbers.txt\"\n",
        "\n",
        "with open(file_name, \"w\") as file:\n",
        "    for num in range(600, 801):\n",
        "        is_prime = True\n",
        "        for i in range(2, num):\n",
        "            if num % i == 0:\n",
        "                is_prime = False\n",
        "                break\n",
        "        if is_prime:\n",
        "            file.write(f\"{num}\\n\")\n",
        "\n",
        "!cat prime_numbers.txt\n"
      ],
      "metadata": {
        "colab": {
          "base_uri": "https://localhost:8080/"
        },
        "id": "bzSdC5IAbHv8",
        "outputId": "7ff095dc-ac01-4560-ebc6-a04242020b7b"
      },
      "execution_count": 21,
      "outputs": [
        {
          "output_type": "stream",
          "name": "stdout",
          "text": [
            "601\n",
            "607\n",
            "613\n",
            "617\n",
            "619\n",
            "631\n",
            "641\n",
            "643\n",
            "647\n",
            "653\n",
            "659\n",
            "661\n",
            "673\n",
            "677\n",
            "683\n",
            "691\n",
            "701\n",
            "709\n",
            "719\n",
            "727\n",
            "733\n",
            "739\n",
            "743\n",
            "751\n",
            "757\n",
            "761\n",
            "769\n",
            "773\n",
            "787\n",
            "797\n"
          ]
        }
      ]
    },
    {
      "cell_type": "markdown",
      "source": [
        "#***Q11. WAP to calculate the time taken by a program.***"
      ],
      "metadata": {
        "id": "qFBiautVcsAG"
      }
    },
    {
      "cell_type": "code",
      "source": [
        "import time\n",
        "\n",
        "start = time.time()\n",
        "# Sample work\n",
        "sum([i*i for i in range(10000)])\n",
        "end = time.time()\n",
        "\n",
        "print(\"Time taken:\", end - start, \"seconds\")"
      ],
      "metadata": {
        "colab": {
          "base_uri": "https://localhost:8080/"
        },
        "id": "SbLc8v1Xc_uq",
        "outputId": "a53daee0-ea19-47e4-c8b7-9cb90b54e63e"
      },
      "execution_count": 24,
      "outputs": [
        {
          "output_type": "stream",
          "name": "stdout",
          "text": [
            "Time taken: 0.0007421970367431641 seconds\n"
          ]
        }
      ]
    },
    {
      "cell_type": "markdown",
      "source": [
        "#***Q12.***"
      ],
      "metadata": {
        "id": "1yhIm5MTdHbs"
      }
    },
    {
      "cell_type": "code",
      "source": [
        "import matplotlib.pyplot as plt\n",
        "\n",
        "times = []\n",
        "sizes = [5000, 10000, 15000, 20000, 25000]\n",
        "\n",
        "for size in sizes:\n",
        "    arr = [random.randint(0, 100000) for _ in range(size)]\n",
        "    start = time.time()\n",
        "    arr.sort()\n",
        "    end = time.time()\n",
        "    times.append(end - start)\n",
        "\n",
        "plt.plot(sizes, times, marker='o')\n",
        "plt.xlabel(\"Number of elements\")\n",
        "plt.ylabel(\"Time taken (s)\")\n",
        "plt.title(\"Sorting Time Analysis\")\n",
        "plt.grid(True)\n",
        "plt.show()"
      ],
      "metadata": {
        "colab": {
          "base_uri": "https://localhost:8080/",
          "height": 472
        },
        "id": "_kOsfuOBdL_4",
        "outputId": "d6fe933f-320c-4d82-9ed4-d78ea19b02ec"
      },
      "execution_count": 25,
      "outputs": [
        {
          "output_type": "display_data",
          "data": {
            "text/plain": [
              "<Figure size 640x480 with 1 Axes>"
            ],
            "image/png": "[encoded data removed]"
          },
          "metadata": {}
        }
      ]
    },
    {
      "cell_type": "markdown",
      "source": [
        "#***Q13. WAP to create a dictionary of students marks in 5 subjects and you have to find the student having max. and min. average marks.***\n"
      ],
      "metadata": {
        "id": "Blvi13u_dXSo"
      }
    },
    {
      "cell_type": "code",
      "source": [
        "students = {\n",
        "    \"jake\": [78, 82, 91, 87, 85],\n",
        "    \"mike\": [88, 72, 69, 94, 75],\n",
        "    \"john\": [80, 85, 89, 90, 88]\n",
        "}\n",
        "\n",
        "averages = {name: sum(marks)/len(marks) for name, marks in students.items()}\n",
        "max_student = max(averages, key=averages.get)\n",
        "min_student = min(averages, key=averages.get)\n",
        "\n",
        "print(\"Max average:\", max_student, averages[max_student])\n",
        "print(\"Min average:\", min_student, averages[min_student])"
      ],
      "metadata": {
        "colab": {
          "base_uri": "https://localhost:8080/"
        },
        "id": "v48VWw9Gds5M",
        "outputId": "d2fac6d7-641f-4658-df34-fc356367418b"
      },
      "execution_count": 27,
      "outputs": [
        {
          "output_type": "stream",
          "name": "stdout",
          "text": [
            "Max average: john 86.4\n",
            "Min average: mike 79.6\n"
          ]
        }
      ]
    }
  ]
}