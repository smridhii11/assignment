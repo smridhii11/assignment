{
  "nbformat": 4,
  "nbformat_minor": 0,
  "metadata": {
    "colab": {
      "provenance": [],
      "authorship_tag": "ABX9TyOReK0pVBnoCeJuR0QO+gFv",
      "include_colab_link": true
    },
    "kernelspec": {
      "name": "python3",
      "display_name": "Python 3"
    },
    "language_info": {
      "name": "python"
    }
  },
  "cells": [
    {
      "cell_type": "markdown",
      "metadata": {
        "id": "view-in-github",
        "colab_type": "text"
      },
      "source": [
        "<a href=\"https://colab.research.google.com/github/smridhii11/assignment/blob/main/assignment.ipynb\" target=\"_parent\"><img src=\"https://colab.research.google.com/assets/colab-badge.svg\" alt=\"Open In Colab\"/></a>"
      ]
    },
    {
      "cell_type": "markdown",
      "source": [],
      "metadata": {
        "id": "UFxEglBkZ9b8"
      }
    },
    {
      "cell_type": "markdown",
      "source": [
        "---\n",
        "#***L is the list defined as L=[11,12,13,14].\n",
        "---\n",
        "#**1.1 WAP to add 50 and 60 to L.\n"
      ],
      "metadata": {
        "id": "RZA7kH0MZ_XK"
      }
    },
    {
      "cell_type": "code",
      "source": [
        "L = [11, 12, 13, 14]\n",
        "\n",
        "L.append(50)\n",
        "L.append(60)\n",
        "print (L)\n"
      ],
      "metadata": {
        "colab": {
          "base_uri": "https://localhost:8080/"
        },
        "id": "fjkOfaUXbV_B",
        "outputId": "d9d0c5fa-be3f-4049-de97-aff29ad4f332"
      },
      "execution_count": 3,
      "outputs": [
        {
          "output_type": "stream",
          "name": "stdout",
          "text": [
            "[11, 12, 13, 14, 50, 60]\n"
          ]
        }
      ]
    },
    {
      "cell_type": "markdown",
      "source": [
        "#**1.2 WAP to remove 11 and 13 from L.\n",
        ""
      ],
      "metadata": {
        "id": "U2kmanI_bqij"
      }
    },
    {
      "cell_type": "code",
      "source": [
        "L = [11, 12, 13, 14]\n",
        "L.remove(11)\n",
        "L.remove(13)\n",
        "print (L)"
      ],
      "metadata": {
        "colab": {
          "base_uri": "https://localhost:8080/"
        },
        "id": "7lErkPv6b6M6",
        "outputId": "91f49399-0798-4521-9c2b-a370a1eb627c"
      },
      "execution_count": 4,
      "outputs": [
        {
          "output_type": "stream",
          "name": "stdout",
          "text": [
            "[12, 14]\n"
          ]
        }
      ]
    },
    {
      "cell_type": "markdown",
      "source": [
        "#**1.3 WAP to sort L in assending order."
      ],
      "metadata": {
        "id": "NcHRBLGscCRt"
      }
    },
    {
      "cell_type": "code",
      "source": [
        "L = [11, 13,14,12]\n",
        "L.sort()\n",
        "print (L)\n"
      ],
      "metadata": {
        "colab": {
          "base_uri": "https://localhost:8080/"
        },
        "id": "CoLkeo_icJv1",
        "outputId": "efa3bde7-5ea2-4bb3-fb9f-c84bcfaac086"
      },
      "execution_count": 6,
      "outputs": [
        {
          "output_type": "stream",
          "name": "stdout",
          "text": [
            "[11, 12, 13, 14]\n"
          ]
        }
      ]
    },
    {
      "cell_type": "markdown",
      "source": [
        "#** 1.4 WAP to sort L in decending order"
      ],
      "metadata": {
        "id": "EFl5q-7YcbS0"
      }
    },
    {
      "cell_type": "code",
      "source": [
        "L = [11, 13,14,12]\n",
        "\n",
        "L.sort(reverse=True)\n",
        "print (L)"
      ],
      "metadata": {
        "colab": {
          "base_uri": "https://localhost:8080/"
        },
        "id": "CHe89i5kcitm",
        "outputId": "1e5bce8e-ba08-48af-c4c7-f94cf33902f8"
      },
      "execution_count": 7,
      "outputs": [
        {
          "output_type": "stream",
          "name": "stdout",
          "text": [
            "[14, 13, 12, 11]\n"
          ]
        }
      ]
    },
    {
      "cell_type": "markdown",
      "source": [
        "#**1.5 WAP to search for 13 in L.\n"
      ],
      "metadata": {
        "id": "FTEGMcsmcqhZ"
      }
    },
    {
      "cell_type": "code",
      "source": [
        "L = [11, 13,14,12]\n",
        "\n",
        "found = 13 in L\n",
        "print (found)"
      ],
      "metadata": {
        "colab": {
          "base_uri": "https://localhost:8080/"
        },
        "id": "3QUuqozlcxbD",
        "outputId": "2930642a-e054-4c31-987f-df31ca7d68d5"
      },
      "execution_count": 8,
      "outputs": [
        {
          "output_type": "stream",
          "name": "stdout",
          "text": [
            "True\n"
          ]
        }
      ]
    },
    {
      "cell_type": "markdown",
      "source": [
        "#** 1.6 WAP to count the no. of elements in L."
      ],
      "metadata": {
        "id": "w58DiTCjc7lP"
      }
    },
    {
      "cell_type": "code",
      "source": [
        "L = [11, 13,14,12]\n",
        "count = len(L)\n",
        "print(count)"
      ],
      "metadata": {
        "colab": {
          "base_uri": "https://localhost:8080/"
        },
        "id": "HtYqz56qdCsW",
        "outputId": "c4b19bc8-f8ec-4b6b-f7e1-20fe59a90612"
      },
      "execution_count": 9,
      "outputs": [
        {
          "output_type": "stream",
          "name": "stdout",
          "text": [
            "4\n"
          ]
        }
      ]
    },
    {
      "cell_type": "markdown",
      "source": [
        "#**1.7 WAP to sum all the elements in L.\n"
      ],
      "metadata": {
        "id": "U6-3D_yZdVxr"
      }
    },
    {
      "cell_type": "code",
      "source": [
        "L = [11, 13,14,12]\n",
        "total_sum = sum(L)\n",
        "print(total_sum)"
      ],
      "metadata": {
        "colab": {
          "base_uri": "https://localhost:8080/"
        },
        "id": "lAiHl2kLdb6E",
        "outputId": "c20c8982-5c2f-447b-d174-7fc4f35f8c52"
      },
      "execution_count": 10,
      "outputs": [
        {
          "output_type": "stream",
          "name": "stdout",
          "text": [
            "50\n"
          ]
        }
      ]
    },
    {
      "cell_type": "markdown",
      "source": [
        "#**1.8 WAP to sum all odd no. in L."
      ],
      "metadata": {
        "id": "T0RWJk5GdioV"
      }
    },
    {
      "cell_type": "code",
      "source": [
        "L = [11, 13,14,12]\n",
        "odd_numbers = []\n",
        "for x in L:\n",
        "    if x % 2 != 0:\n",
        "        odd_numbers.append(x)# extract odd no. from list\n",
        "odd_sum = sum(odd_numbers) # sum od odd no.\n",
        "print(odd_sum)\n"
      ],
      "metadata": {
        "colab": {
          "base_uri": "https://localhost:8080/"
        },
        "id": "Re3fB0_gdpzi",
        "outputId": "14e7b75e-bc2e-4cab-8f0b-9e8103bd45b0"
      },
      "execution_count": 11,
      "outputs": [
        {
          "output_type": "stream",
          "name": "stdout",
          "text": [
            "24\n"
          ]
        }
      ]
    },
    {
      "cell_type": "markdown",
      "source": [
        "#**1.9 WAP to sum of all even no. in L.\n"
      ],
      "metadata": {
        "id": "nGseJW5Igmfo"
      }
    },
    {
      "cell_type": "code",
      "source": [
        "L = [11, 13,14,12]\n",
        "even_numbers = []\n",
        "for x in L:\n",
        "    if x % 2 == 0:\n",
        "        even_numbers.append(x)# extract even no. from list\n",
        "even_sum = sum(even_numbers) # sum of even no.\n",
        "print(even_sum)"
      ],
      "metadata": {
        "colab": {
          "base_uri": "https://localhost:8080/"
        },
        "id": "uofHMxNggze4",
        "outputId": "c7878071-cbb5-489b-9dcf-b5ca6cb7b955"
      },
      "execution_count": 12,
      "outputs": [
        {
          "output_type": "stream",
          "name": "stdout",
          "text": [
            "26\n"
          ]
        }
      ]
    },
    {
      "cell_type": "markdown",
      "source": [
        "#**1.10 WAP to sum of all prime no. in L.\n"
      ],
      "metadata": {
        "id": "u1v534l9g4sJ"
      }
    },
    {
      "cell_type": "code",
      "source": [
        "L = [11, 13,14,12]\n",
        "prime_numbers = []\n",
        "for x in L:\n",
        "    if x % 2 != 0:\n",
        "        prime_numbers.append(x)# extract prime no. from list\n",
        "prime_sum = sum(prime_numbers) # sum of prime no.\n",
        "print(prime_sum)\n"
      ],
      "metadata": {
        "colab": {
          "base_uri": "https://localhost:8080/"
        },
        "id": "7OCUngu5g-s9",
        "outputId": "0ec8f3a6-7007-4e9c-f160-34b12b8679ad"
      },
      "execution_count": 13,
      "outputs": [
        {
          "output_type": "stream",
          "name": "stdout",
          "text": [
            "24\n"
          ]
        }
      ]
    },
    {
      "cell_type": "markdown",
      "source": [
        "#**1.11 WAP to clear all the elements in L.\n"
      ],
      "metadata": {
        "id": "bszhx1FwhKZ-"
      }
    },
    {
      "cell_type": "code",
      "source": [
        "L = [11, 13,14,12]\n",
        "L.clear()"
      ],
      "metadata": {
        "id": "6LfbJesKhQNQ"
      },
      "execution_count": 1,
      "outputs": []
    },
    {
      "cell_type": "markdown",
      "source": [
        "#** 1.12 WAP to delete L."
      ],
      "metadata": {
        "id": "r28WuOnEhWdK"
      }
    },
    {
      "cell_type": "code",
      "source": [
        "del L"
      ],
      "metadata": {
        "id": "O3UVWK9Jhln3"
      },
      "execution_count": 2,
      "outputs": []
    }
  ]
}